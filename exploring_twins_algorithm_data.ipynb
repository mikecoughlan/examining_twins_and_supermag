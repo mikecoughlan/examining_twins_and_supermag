{
 "cells": [
  {
   "cell_type": "code",
   "execution_count": 1,
   "metadata": {},
   "outputs": [],
   "source": [
    "import pandas as pd\n",
    "import numpy as np\n",
    "import matplotlib.pyplot as plt\n",
    "import seaborn as sns\n",
    "import os\n",
    "import pickle\n",
    "import glob\n",
    "from scipy.io import loadmat\n",
    "import datetime\n",
    "import math"
   ]
  },
  {
   "cell_type": "code",
   "execution_count": 33,
   "metadata": {},
   "outputs": [],
   "source": [
    "dir_path = '../data/twins_algorithm/'\n",
    "twins_files = sorted(glob.glob(dir_path + 'arrays/TWINS2*.mat'))\n",
    "date_files = sorted(glob.glob(dir_path + 'dates/TWINS_Date*.xlsx'))\n",
    "# date_excel = pd.read_excel(dir_path + 'TWINS_Date2009.xlsx', header=None, names=['date'])\n",
    "test_file = twins_files[0]\n",
    "date_file = date_files[0]"
   ]
  },
  {
   "cell_type": "code",
   "execution_count": 51,
   "metadata": {},
   "outputs": [
    {
     "name": "stdout",
     "output_type": "stream",
     "text": [
      "../data/twins_algorithm/dates/TWINS_Date2009.xlsx\n",
      "../data/twins_algorithm/dates/TWINS_Date2010.xlsx\n",
      "../data/twins_algorithm/dates/TWINS_Date2011.xlsx\n",
      "../data/twins_algorithm/dates/TWINS_Date2012.xlsx\n",
      "../data/twins_algorithm/dates/TWINS_Date2013.xlsx\n",
      "../data/twins_algorithm/dates/TWINS_Date2014.xlsx\n",
      "../data/twins_algorithm/dates/TWINS_Date2015.xlsx\n",
      "../data/twins_algorithm/dates/TWINS_Date2016.xlsx\n",
      "../data/twins_algorithm/dates/TWINS_Date2017.xlsx\n",
      "../data/twins_algorithm/dates/TWINS_Date2018.xlsx\n"
     ]
    }
   ],
   "source": [
    "# creating empty np.array for concaenating all the twins data\n",
    "twins_data = list()\n",
    "for file in twins_files:\n",
    "\ttemp_arr = loadmat(file)['Data']\n",
    "\ttwins_data.append(temp_arr)\n",
    "\n",
    "twins_data = np.concatenate(twins_data, axis=2)\n",
    "\n",
    "dates = pd.DataFrame()\n",
    "for excel in date_files:\n",
    "\tprint(excel)\n",
    "\ttemp_arr = pd.read_excel(excel, header=None, names=['date'])\n",
    "\tdates = pd.concat([dates, temp_arr], axis=0)\n",
    "dates.reset_index(drop=True, inplace=True)"
   ]
  },
  {
   "cell_type": "code",
   "execution_count": 54,
   "metadata": {},
   "outputs": [
    {
     "name": "stdout",
     "output_type": "stream",
     "text": [
      "(41676, 1)\n",
      "(160, 160, 41676)\n"
     ]
    },
    {
     "data": {
      "text/plain": [
       "36136"
      ]
     },
     "execution_count": 54,
     "metadata": {},
     "output_type": "execute_result"
    }
   ],
   "source": [
    "print(dates.shape)\n",
    "print(twins_data.shape)\n",
    "\n",
    "len(twins_algo_dict)"
   ]
  },
  {
   "cell_type": "code",
   "execution_count": 69,
   "metadata": {},
   "outputs": [
    {
     "name": "stdout",
     "output_type": "stream",
     "text": [
      "41675\n"
     ]
    }
   ],
   "source": [
    "twins_algo_dict = {}\n",
    "for index, date in dates.iterrows():\n",
    "\tif date['date'] in twins_algo_dict.keys():\n",
    "\t\tcombined_array = np.maximum(twins_data[:,:,index], twins_algo_dict[date['date']])\n",
    "\t\t# checking = twins_data[:,:,index] == twins_algo_dict[date['date']]\n",
    "\t\t# if not checking.all():\n",
    "\t\t# \tfig = plt.figure(figsize=(10,10))\n",
    "\t\t# \tax0 = plt.subplot(1,3,1)\n",
    "\t\t# \tax0.imshow(twins_data[:,:,index])\n",
    "\t\t# \tax0.set_title('Duplicate')\n",
    "\t\t# \tax1 = plt.subplot(1,3,2)\n",
    "\t\t# \tax1.imshow(twins_algo_dict[date['date']])\n",
    "\t\t# \tax1.set_title('Original')\n",
    "\t\t# \tax2 = plt.subplot(1,3,3)\n",
    "\t\t# \tax2.imshow(combined_array)\n",
    "\t\t# \tax2.set_title('Combined')\n",
    "\t\t# \tplt.show()\n",
    "\t\ttwins_algo_dict[date['date']] = combined_array\n",
    "\ttwins_algo_dict[date['date']] = twins_data[:,:,index]\n",
    "print(index)"
   ]
  },
  {
   "cell_type": "code",
   "execution_count": 71,
   "metadata": {},
   "outputs": [],
   "source": [
    "with open('outputs/twins_algo_dict.pkl', 'wb') as handle:\n",
    "\tpickle.dump(twins_algo_dict, handle, protocol=pickle.HIGHEST_PROTOCOL)"
   ]
  },
  {
   "cell_type": "code",
   "execution_count": null,
   "metadata": {},
   "outputs": [],
   "source": []
  }
 ],
 "metadata": {
  "kernelspec": {
   "display_name": "Python 3",
   "language": "python",
   "name": "python3"
  },
  "language_info": {
   "codemirror_mode": {
    "name": "ipython",
    "version": 3
   },
   "file_extension": ".py",
   "mimetype": "text/x-python",
   "name": "python",
   "nbconvert_exporter": "python",
   "pygments_lexer": "ipython3",
   "version": "3.8.10"
  },
  "orig_nbformat": 4
 },
 "nbformat": 4,
 "nbformat_minor": 2
}
