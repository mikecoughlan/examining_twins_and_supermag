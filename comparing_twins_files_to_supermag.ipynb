{
 "cells": [
  {
   "cell_type": "code",
   "execution_count": 3,
   "metadata": {},
   "outputs": [],
   "source": [
    "from scipy.io import netcdf "
   ]
  },
  {
   "cell_type": "code",
   "execution_count": 4,
   "metadata": {},
   "outputs": [
    {
     "name": "stderr",
     "output_type": "stream",
     "text": [
      "/tmp/ipykernel_915864/2415797430.py:2: DeprecationWarning: Please use `netcdf_file` from the `scipy.io` namespace, the `scipy.io.netcdf` namespace is deprecated.\n",
      "  data = netcdf.netcdf_file(file, 'r')\n"
     ]
    },
    {
     "ename": "TypeError",
     "evalue": "Error: twins_data/twins_m2_ena_20150317_v02.cdf is not a valid NetCDF 3 file",
     "output_type": "error",
     "traceback": [
      "\u001b[0;31m---------------------------------------------------------------------------\u001b[0m",
      "\u001b[0;31mTypeError\u001b[0m                                 Traceback (most recent call last)",
      "\u001b[1;32m/home/mcoughlan/projects/examining_twins_and_supermag/comparing_twins_files_to_supermag.ipynb Cell 2\u001b[0m in \u001b[0;36m<cell line: 2>\u001b[0;34m()\u001b[0m\n\u001b[1;32m      <a href='vscode-notebook-cell:/home/mcoughlan/projects/examining_twins_and_supermag/comparing_twins_files_to_supermag.ipynb#W1sZmlsZQ%3D%3D?line=0'>1</a>\u001b[0m file \u001b[39m=\u001b[39m \u001b[39m'\u001b[39m\u001b[39mtwins_data/twins_m2_ena_20150317_v02.cdf\u001b[39m\u001b[39m'\u001b[39m\n\u001b[0;32m----> <a href='vscode-notebook-cell:/home/mcoughlan/projects/examining_twins_and_supermag/comparing_twins_files_to_supermag.ipynb#W1sZmlsZQ%3D%3D?line=1'>2</a>\u001b[0m data \u001b[39m=\u001b[39m netcdf\u001b[39m.\u001b[39;49mnetcdf_file(file, \u001b[39m'\u001b[39;49m\u001b[39mr\u001b[39;49m\u001b[39m'\u001b[39;49m)\n",
      "File \u001b[0;32m/usr/local/lib/python3.8/dist-packages/scipy/io/_netcdf.py:277\u001b[0m, in \u001b[0;36mnetcdf_file.__init__\u001b[0;34m(self, filename, mode, mmap, version, maskandscale)\u001b[0m\n\u001b[1;32m    274\u001b[0m \u001b[39mself\u001b[39m\u001b[39m.\u001b[39m_attributes \u001b[39m=\u001b[39m {}\n\u001b[1;32m    276\u001b[0m \u001b[39mif\u001b[39;00m mode \u001b[39min\u001b[39;00m \u001b[39m'\u001b[39m\u001b[39mra\u001b[39m\u001b[39m'\u001b[39m:\n\u001b[0;32m--> 277\u001b[0m     \u001b[39mself\u001b[39;49m\u001b[39m.\u001b[39;49m_read()\n",
      "File \u001b[0;32m/usr/local/lib/python3.8/dist-packages/scipy/io/_netcdf.py:598\u001b[0m, in \u001b[0;36mnetcdf_file._read\u001b[0;34m(self)\u001b[0m\n\u001b[1;32m    596\u001b[0m magic \u001b[39m=\u001b[39m \u001b[39mself\u001b[39m\u001b[39m.\u001b[39mfp\u001b[39m.\u001b[39mread(\u001b[39m3\u001b[39m)\n\u001b[1;32m    597\u001b[0m \u001b[39mif\u001b[39;00m \u001b[39mnot\u001b[39;00m magic \u001b[39m==\u001b[39m \u001b[39mb\u001b[39m\u001b[39m'\u001b[39m\u001b[39mCDF\u001b[39m\u001b[39m'\u001b[39m:\n\u001b[0;32m--> 598\u001b[0m     \u001b[39mraise\u001b[39;00m \u001b[39mTypeError\u001b[39;00m(\u001b[39m\"\u001b[39m\u001b[39mError: \u001b[39m\u001b[39m%s\u001b[39;00m\u001b[39m is not a valid NetCDF 3 file\u001b[39m\u001b[39m\"\u001b[39m \u001b[39m%\u001b[39m\n\u001b[1;32m    599\u001b[0m                     \u001b[39mself\u001b[39m\u001b[39m.\u001b[39mfilename)\n\u001b[1;32m    600\u001b[0m \u001b[39mself\u001b[39m\u001b[39m.\u001b[39m\u001b[39m__dict__\u001b[39m[\u001b[39m'\u001b[39m\u001b[39mversion_byte\u001b[39m\u001b[39m'\u001b[39m] \u001b[39m=\u001b[39m frombuffer(\u001b[39mself\u001b[39m\u001b[39m.\u001b[39mfp\u001b[39m.\u001b[39mread(\u001b[39m1\u001b[39m), \u001b[39m'\u001b[39m\u001b[39m>b\u001b[39m\u001b[39m'\u001b[39m)[\u001b[39m0\u001b[39m]\n\u001b[1;32m    602\u001b[0m \u001b[39m# Read file headers and set data.\u001b[39;00m\n",
      "\u001b[0;31mTypeError\u001b[0m: Error: twins_data/twins_m2_ena_20150317_v02.cdf is not a valid NetCDF 3 file"
     ]
    }
   ],
   "source": [
    "file = 'twins_data/twins_m2_ena_20150317_v02.cdf'\n",
    "data = netcdf.netcdf_file(file, 'r')"
   ]
  },
  {
   "cell_type": "code",
   "execution_count": null,
   "metadata": {},
   "outputs": [],
   "source": []
  }
 ],
 "metadata": {
  "kernelspec": {
   "display_name": "Python 3",
   "language": "python",
   "name": "python3"
  },
  "language_info": {
   "codemirror_mode": {
    "name": "ipython",
    "version": 3
   },
   "file_extension": ".py",
   "mimetype": "text/x-python",
   "name": "python",
   "nbconvert_exporter": "python",
   "pygments_lexer": "ipython3",
   "version": "3.8.10"
  },
  "orig_nbformat": 4
 },
 "nbformat": 4,
 "nbformat_minor": 2
}
