{
 "cells": [
  {
   "cell_type": "code",
   "execution_count": 1,
   "metadata": {},
   "outputs": [
    {
     "name": "stderr",
     "output_type": "stream",
     "text": [
      "2024-01-24 17:40:59.506582: I tensorflow/core/platform/cpu_feature_guard.cc:193] This TensorFlow binary is optimized with oneAPI Deep Neural Network Library (oneDNN) to use the following CPU instructions in performance-critical operations:  SSE4.1 SSE4.2 AVX AVX2 FMA\n",
      "To enable them in other operations, rebuild TensorFlow with the appropriate compiler flags.\n"
     ]
    }
   ],
   "source": [
    "####################################################################################\n",
    "#\n",
    "# exmining_twins_and_supermag/non_twins_modeling_v0.py\n",
    "#\n",
    "# Performing the modeling using the Solar Wind and Ground Magnetomoeter data.\n",
    "# TWINS data passes through a pre-trained autoencoder that reduces the TWINS maps\n",
    "# to a reuced dimensionality. This data is then concatenated onto the model after\n",
    "# both branches of the CNN hae been flattened, and before the dense layers.\n",
    "# Similar model to Coughlan (2023) but with a different target variable.\n",
    "#\n",
    "####################################################################################\n",
    "\n",
    "\n",
    "# Importing the libraries\n",
    "import argparse\n",
    "import datetime\n",
    "import gc\n",
    "import glob\n",
    "import json\n",
    "import math\n",
    "import os\n",
    "import pickle\n",
    "import subprocess\n",
    "import time\n",
    "\n",
    "import matplotlib\n",
    "import matplotlib.animation as animation\n",
    "import matplotlib.image as mpimg\n",
    "import matplotlib.pyplot as plt\n",
    "import numpy as np\n",
    "import pandas as pd\n",
    "import tensorflow as tf\n",
    "import tqdm\n",
    "from scipy.special import expit, inv_boxcox\n",
    "from scipy.stats import boxcox\n",
    "from sklearn.metrics import mean_absolute_error, mean_squared_error, r2_score\n",
    "from sklearn.model_selection import train_test_split\n",
    "from sklearn.preprocessing import MinMaxScaler, StandardScaler\n",
    "# from spacepy import pycdf\n",
    "from tensorflow.keras.backend import clear_session\n",
    "from tensorflow.keras.callbacks import EarlyStopping\n",
    "from tensorflow.keras.layers import (Activation, BatchNormalization, Conv2D,\n",
    "                                     Dense, Dropout, Flatten, Input,\n",
    "                                     MaxPooling2D, concatenate)\n",
    "from tensorflow.keras.models import Model, Sequential, load_model\n",
    "from tensorflow.keras.utils import to_categorical\n",
    "from tensorflow.python.keras.backend import get_session\n",
    "\n",
    "import utils\n",
    "\n",
    "os.environ[\"CDF_LIB\"] = \"~/CDF/lib\"\n",
    "\n",
    "data_directory = '../../../../data/'\n",
    "supermag_dir = '../data/supermag/feather_files/'\n",
    "regions_dict = 'mike_working_dir/identifying_regions_data/identifying_regions_data/twins_era_identified_regions_min_2.pkl'\n",
    "regions_stat_dict = 'mike_working_dir/identifying_regions_data/identifying_regions_data/twins_era_stats_dict_radius_regions_min_2.pkl'\n",
    "working_dir = data_directory+'mike_working_dir/twins_data_modeling/'\n",
    "\n",
    "random_seed = 7"
   ]
  },
  {
   "cell_type": "code",
   "execution_count": 2,
   "metadata": {},
   "outputs": [],
   "source": [
    "maps = utils.loading_twins_maps()"
   ]
  },
  {
   "cell_type": "code",
   "execution_count": 63,
   "metadata": {},
   "outputs": [],
   "source": [
    "def getting_wedge(img_data, mlt_min: int = 18, mlt_max: int = 6, mlt_span: int=1, angle_steps: int = 8, center_x: int = 120, center_y: int = 80):\n",
    "    \"\"\"\n",
    "    This function takes in a temperature ENA image and divides thems into pie slices based on the\n",
    "    numbers of slices desired. The output of the function is an array of the mean different sections of the\n",
    "    ENA temperature map generated and the different sections themselves, respectively.\n",
    "    Parameters:\n",
    "    -----------\n",
    "    img_data : ndarray\n",
    "        Input image data.\n",
    "    mlt_min : int, optional\n",
    "        Minimum MLT value. Default is 18.\n",
    "    mlt_max : int, optional\n",
    "        Maximum MLT value. Default is 6.\n",
    "    mlt_span : int, optional\n",
    "        MLT span. Default is 1.\n",
    "    angle_steps : int, optional\n",
    "        Number of angle steps for pie slices. Default is 8.\n",
    "    center_x : int, optional\n",
    "        X-coordinate of the center. Default is 120.\n",
    "    center_y : int, optional\n",
    "        Y-coordinate of the center. Default is 80.\n",
    "    Returns:\n",
    "    --------\n",
    "    selected_sections : list\n",
    "        List of selected pie slice sections.\n",
    "    \"\"\"\n",
    "    # get the dimension of the image\n",
    "    height, width = img_data.shape\n",
    "    # Create an empty list to store the selected sections\n",
    "    selected_sections = []\n",
    "    img_mean = []\n",
    "    # define the numbers of angles used for the pie slices\n",
    "    N = int(360 / angle_steps)\n",
    "    angles = [i+90 for i in range(0, 90, N)]\n",
    "    # Create a duplicate of the angles for the other side of the image.\n",
    "    angles.extend(angles)\n",
    "    # Create masks for each N-degree section and apply them to the image\n",
    "    for i, angle in enumerate(angles):\n",
    "        # Create a new blank mask as a NumPy array\n",
    "        mask = np.zeros((height, width), dtype=np.uint8)\n",
    "        img_copy = np.copy(img_data)\n",
    "        # Calculate the coordinates of the sector's bounding box\n",
    "        start_angle = math.radians(angle)\n",
    "        end_angle = math.radians(angle + N)\n",
    "        # Calculate the coordinates of the sector arc\n",
    "        for y in range(height):\n",
    "            for x in range(width):\n",
    "                # Calculate the polar coordinates of the pixel relative to the image center\n",
    "                dx = x - center_x\n",
    "                dy = center_y - y  # Flip the y-axis direction\n",
    "                if i > ((angle_steps / 2) - 1):\n",
    "                    dy = -dy\n",
    "                pixel_angle = math.atan2(dy, dx)  # Calculate the angle in radians\n",
    "                # Check if the pixel is within the current 45-degree section\n",
    "                if start_angle <= pixel_angle < end_angle:\n",
    "                    mask[y, x] = 1  # Set the pixel to white (255)\n",
    "        # Apply the mask to the heat map to select the section\n",
    "        img_copy[mask == 0] = 0\n",
    "        # Append the selected section to the list\n",
    "        selected_sections.append(img_copy)\n",
    "        xx = np.copy(img_copy)\n",
    "        xx[xx == 0] = np.nan\n",
    "        # Get the mean of the non zero values of the image\n",
    "        img_mean.append(np.nanmean(xx))\n",
    "    return img_mean, selected_sections"
   ]
  },
  {
   "cell_type": "code",
   "execution_count": 71,
   "metadata": {},
   "outputs": [
    {
     "name": "stdout",
     "output_type": "stream",
     "text": [
      "[4.996015292804138, 7.4501795315368, 8.465816478040328, 10.560405330016321, 12.182809686089454, 4.996015292804138, 7.4501795315368, 8.465816478040328, 10.560405330016321, 12.182809686089454]\n"
     ]
    },
    {
     "data": {
      "image/png": "[encoded data removed]",
      "text/plain": [
       "<Figure size 1000x1000 with 2 Axes>"
      ]
     },
     "metadata": {},
     "output_type": "display_data"
    }
   ],
   "source": [
    "key = '2012-03-07 01:50:00'\n",
    "img_mean, selected_sections = getting_wedge(maps[key]['map'], angle_steps=20, center_x=60, center_y=45)\n",
    "print(img_mean)\n",
    "fig, ax = plt.subplots(1, 2, figsize=(10, 10))\n",
    "vmin = np.nanmin(maps[key]['map'])\n",
    "vmax = np.nanmax(maps[key]['map'])\n",
    "ax[0].imshow(maps[key]['map'], cmap='viridis', vmin=vmin, vmax=vmax, origin='lower')\n",
    "ax[1].imshow(selected_sections[6], cmap='viridis', vmin=vmin, vmax=vmax, origin='lower')\n",
    "plt.show()"
   ]
  },
  {
   "cell_type": "code",
   "execution_count": null,
   "metadata": {},
   "outputs": [],
   "source": []
  }
 ],
 "metadata": {
  "kernelspec": {
   "display_name": "Python 3",
   "language": "python",
   "name": "python3"
  },
  "language_info": {
   "codemirror_mode": {
    "name": "ipython",
    "version": 3
   },
   "file_extension": ".py",
   "mimetype": "text/x-python",
   "name": "python",
   "nbconvert_exporter": "python",
   "pygments_lexer": "ipython3",
   "version": "3.8.10"
  }
 },
 "nbformat": 4,
 "nbformat_minor": 2
}
