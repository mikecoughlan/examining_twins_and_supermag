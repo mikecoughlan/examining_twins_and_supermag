{
 "cells": [
  {
   "cell_type": "code",
   "execution_count": 49,
   "id": "c17cb90b",
   "metadata": {},
   "outputs": [],
   "source": [
    "import pandas as pd\n",
    "import numpy as np\n",
    "import matplotlib.pyplot as plt\n",
    "import datetime"
   ]
  },
  {
   "cell_type": "code",
   "execution_count": 53,
   "id": "6367704b",
   "metadata": {},
   "outputs": [
    {
     "name": "stdout",
     "output_type": "stream",
     "text": [
      "      YYYYMMDD     start       end\n",
      "0     20090721  00:00:00  00:39:59\n",
      "1     20090721  00:59:59  01:40:00\n",
      "2     20090721  02:00:00  02:20:00\n",
      "3     20090721  02:40:00  02:40:00\n",
      "4     20090721  03:00:00  03:39:59\n",
      "...        ...       ...       ...\n",
      "3797  20170929  13:19:59  13:30:00\n",
      "3798  20170929  20:06:00  20:20:00\n",
      "3799  20170929  20:40:00  20:40:00\n",
      "3800  20171107  04:58:59  06:30:00\n",
      "3801  20171107  06:59:59  08:20:00\n",
      "\n",
      "[3802 rows x 3 columns]\n"
     ]
    }
   ],
   "source": [
    "dates = pd.read_csv('ENA_TimeStamp.csv', header=None, names=['YYYYMMDD', 'start', 'end'])\n",
    "print(dates)"
   ]
  },
  {
   "cell_type": "code",
   "execution_count": 54,
   "id": "95c8b293",
   "metadata": {},
   "outputs": [],
   "source": [
    "dates['start'] = pd.to_datetime(dates.YYYYMMDD.astype(str)+' '+dates.start.astype(str), format='%Y%m%d %H:%M:%S')\n",
    "dates['end'] = pd.to_datetime(dates.YYYYMMDD.astype(str)+' '+dates.end.astype(str), format='%Y%m%d %H:%M:%S')\n",
    "dates.drop('YYYYMMDD', inplace=True, axis=1)"
   ]
  },
  {
   "cell_type": "code",
   "execution_count": 66,
   "id": "377a2786",
   "metadata": {},
   "outputs": [],
   "source": [
    "ott = pd.read_feather('../data/supermag/OTT_prepared.feather')"
   ]
  },
  {
   "cell_type": "code",
   "execution_count": 67,
   "id": "649d8376",
   "metadata": {},
   "outputs": [
    {
     "data": {
      "text/html": [
       "<div>\n",
       "<style scoped>\n",
       "    .dataframe tbody tr th:only-of-type {\n",
       "        vertical-align: middle;\n",
       "    }\n",
       "\n",
       "    .dataframe tbody tr th {\n",
       "        vertical-align: top;\n",
       "    }\n",
       "\n",
       "    .dataframe thead th {\n",
       "        text-align: right;\n",
       "    }\n",
       "</style>\n",
       "<table border=\"1\" class=\"dataframe\">\n",
       "  <thead>\n",
       "    <tr style=\"text-align: right;\">\n",
       "      <th></th>\n",
       "      <th>MLAT</th>\n",
       "      <th>MLT</th>\n",
       "      <th>dBHt</th>\n",
       "      <th>direction</th>\n",
       "      <th>Date_UTC</th>\n",
       "    </tr>\n",
       "  </thead>\n",
       "  <tbody>\n",
       "    <tr>\n",
       "      <th>0</th>\n",
       "      <td>56.33</td>\n",
       "      <td>18.89</td>\n",
       "      <td>NaN</td>\n",
       "      <td>NaN</td>\n",
       "      <td>1995-01-01 00:00:00</td>\n",
       "    </tr>\n",
       "    <tr>\n",
       "      <th>1</th>\n",
       "      <td>56.33</td>\n",
       "      <td>18.91</td>\n",
       "      <td>0.000000</td>\n",
       "      <td>0.000000</td>\n",
       "      <td>1995-01-01 00:01:00</td>\n",
       "    </tr>\n",
       "    <tr>\n",
       "      <th>2</th>\n",
       "      <td>56.33</td>\n",
       "      <td>18.93</td>\n",
       "      <td>0.100000</td>\n",
       "      <td>180.000000</td>\n",
       "      <td>1995-01-01 00:02:00</td>\n",
       "    </tr>\n",
       "    <tr>\n",
       "      <th>3</th>\n",
       "      <td>56.33</td>\n",
       "      <td>18.94</td>\n",
       "      <td>0.000000</td>\n",
       "      <td>0.000000</td>\n",
       "      <td>1995-01-01 00:03:00</td>\n",
       "    </tr>\n",
       "    <tr>\n",
       "      <th>4</th>\n",
       "      <td>56.33</td>\n",
       "      <td>18.96</td>\n",
       "      <td>0.100000</td>\n",
       "      <td>90.000000</td>\n",
       "      <td>1995-01-01 00:04:00</td>\n",
       "    </tr>\n",
       "    <tr>\n",
       "      <th>...</th>\n",
       "      <td>...</td>\n",
       "      <td>...</td>\n",
       "      <td>...</td>\n",
       "      <td>...</td>\n",
       "      <td>...</td>\n",
       "    </tr>\n",
       "    <tr>\n",
       "      <th>13148635</th>\n",
       "      <td>54.98</td>\n",
       "      <td>18.86</td>\n",
       "      <td>0.100000</td>\n",
       "      <td>0.000000</td>\n",
       "      <td>2019-12-31 23:55:00</td>\n",
       "    </tr>\n",
       "    <tr>\n",
       "      <th>13148636</th>\n",
       "      <td>54.98</td>\n",
       "      <td>18.88</td>\n",
       "      <td>0.223607</td>\n",
       "      <td>-116.565051</td>\n",
       "      <td>2019-12-31 23:56:00</td>\n",
       "    </tr>\n",
       "    <tr>\n",
       "      <th>13148637</th>\n",
       "      <td>54.98</td>\n",
       "      <td>18.89</td>\n",
       "      <td>0.100000</td>\n",
       "      <td>-90.000000</td>\n",
       "      <td>2019-12-31 23:57:00</td>\n",
       "    </tr>\n",
       "    <tr>\n",
       "      <th>13148638</th>\n",
       "      <td>54.98</td>\n",
       "      <td>18.91</td>\n",
       "      <td>0.200000</td>\n",
       "      <td>0.000000</td>\n",
       "      <td>2019-12-31 23:58:00</td>\n",
       "    </tr>\n",
       "    <tr>\n",
       "      <th>13148639</th>\n",
       "      <td>54.98</td>\n",
       "      <td>18.93</td>\n",
       "      <td>0.100000</td>\n",
       "      <td>0.000000</td>\n",
       "      <td>2019-12-31 23:59:00</td>\n",
       "    </tr>\n",
       "  </tbody>\n",
       "</table>\n",
       "<p>13148640 rows × 5 columns</p>\n",
       "</div>"
      ],
      "text/plain": [
       "           MLAT    MLT      dBHt   direction            Date_UTC\n",
       "0         56.33  18.89       NaN         NaN 1995-01-01 00:00:00\n",
       "1         56.33  18.91  0.000000    0.000000 1995-01-01 00:01:00\n",
       "2         56.33  18.93  0.100000  180.000000 1995-01-01 00:02:00\n",
       "3         56.33  18.94  0.000000    0.000000 1995-01-01 00:03:00\n",
       "4         56.33  18.96  0.100000   90.000000 1995-01-01 00:04:00\n",
       "...         ...    ...       ...         ...                 ...\n",
       "13148635  54.98  18.86  0.100000    0.000000 2019-12-31 23:55:00\n",
       "13148636  54.98  18.88  0.223607 -116.565051 2019-12-31 23:56:00\n",
       "13148637  54.98  18.89  0.100000  -90.000000 2019-12-31 23:57:00\n",
       "13148638  54.98  18.91  0.200000    0.000000 2019-12-31 23:58:00\n",
       "13148639  54.98  18.93  0.100000    0.000000 2019-12-31 23:59:00\n",
       "\n",
       "[13148640 rows x 5 columns]"
      ]
     },
     "execution_count": 67,
     "metadata": {},
     "output_type": "execute_result"
    }
   ],
   "source": [
    "# ott.set_index('Date_UTC', inplace=True)\n",
    "ott"
   ]
  },
  {
   "cell_type": "code",
   "execution_count": null,
   "id": "6e173932",
   "metadata": {},
   "outputs": [],
   "source": []
  }
 ],
 "metadata": {
  "kernelspec": {
   "display_name": "Python 3 (ipykernel)",
   "language": "python",
   "name": "python3"
  },
  "language_info": {
   "codemirror_mode": {
    "name": "ipython",
    "version": 3
   },
   "file_extension": ".py",
   "mimetype": "text/x-python",
   "name": "python",
   "nbconvert_exporter": "python",
   "pygments_lexer": "ipython3",
   "version": "3.8.10"
  }
 },
 "nbformat": 4,
 "nbformat_minor": 5
}
